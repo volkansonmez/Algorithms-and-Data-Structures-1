{
 "cells": [
  {
   "cell_type": "code",
   "execution_count": 52,
   "metadata": {},
   "outputs": [
    {
     "name": "stdout",
     "output_type": "stream",
     "text": [
      "[[2.000e+00 1.182e+01 1.470e+00 1.990e+00 2.080e+01 8.600e+01 1.980e+00\n",
      "  1.600e+00 3.000e-01 1.530e+00 1.950e+00 9.500e-01 3.330e+00 4.950e+02]\n",
      " [2.000e+00 1.222e+01 1.290e+00 1.940e+00 1.900e+01 9.200e+01 2.360e+00\n",
      "  2.040e+00 3.900e-01 2.080e+00 2.700e+00 8.600e-01 3.020e+00 3.120e+02]]\n"
     ]
    }
   ],
   "source": [
    "# Write a kmeans plus plus algorithm to initialize the centroids to be used in the kmeans algorithm\n",
    "# Initialize centroids based on a probability index set by their distance from each other\n",
    "# Dataset is a numpy array and k is the number of centroids\n",
    "\n",
    "\n",
    "import numpy as np\n",
    "np.set_printoptions(precision=3)\n",
    "import matplotlib.pyplot as plt\n",
    "%matplotlib inline\n",
    "\n",
    "\n",
    "def kmeans_plus_plus(dataset, k):\n",
    "    # define the shape of the dataset\n",
    "    N, D = dataset.shape\n",
    "    # define the centroid size\n",
    "    C = np.zeros([k, D])\n",
    "    # pick a random instance in the dataset\n",
    "    random_index = np.random.choice(len(dataset))\n",
    "    random_instance = dataset[random_index]\n",
    "    for i in range(k):\n",
    "        # define the distance from the randomly \n",
    "        distance_array = np.linalg.norm(random_instance - dataset , axis = 1)\n",
    "        prob_array = distance_array / np.sum(distance_array)\n",
    "        chosen_index = np.random.choice(len(dataset) , p = prob_array)\n",
    "        C[i] = dataset[chosen_index]\n",
    "        random_instance = C[i]  \n",
    "    return C\n",
    "\n",
    "# test the function \n",
    "if __name__ == '__main__':\n",
    "    \n",
    "    # download your copy of wine dataset from: https://archive.ics.uci.edu/ml/machine-learning-databases/wine/\n",
    "    # change the format to .txt or .cvs if current data is causing any parsing error.\n",
    "    \n",
    "    dataset = np.loadtxt('wine.data.txt' , dtype = float, delimiter = ',')\n",
    "    dataset = np.array(dataset)\n",
    "    print(kmeans_plus_plus(dataset, 2))\n",
    "     \n",
    "    # if there was a need for standardization, this code below could be applied:\n",
    "    # standardized_data = [(i - np.mean(dataset)) / (np.std(dataset)) for i in dataset]\n",
    "    "
   ]
  },
  {
   "cell_type": "code",
   "execution_count": 53,
   "metadata": {},
   "outputs": [
    {
     "name": "stdout",
     "output_type": "stream",
     "text": [
      "[       0.    17592402.704  4545800.928  2633614.463  1341434.153\n",
      "   916424.194   684095.537   415042.347   674861.281   353365.048\n",
      "   657438.809   187113.672   492970.971   565012.338   138874.119]\n"
     ]
    },
    {
     "data": {
      "image/png": "[encoded data removed]",
      "text/plain": [
       "<Figure size 432x288 with 1 Axes>"
      ]
     },
     "metadata": {
      "needs_background": "light"
     },
     "output_type": "display_data"
    }
   ],
   "source": [
    "# the Within-Cluster-Sum-of-Squares amount normally goes down as the number of clusters increase\n",
    "# the ideal number of clusters can be chosen if the WCSS graph achieves a clear elbow shape\n",
    "\n",
    "def k_means(dataset, k):\n",
    "    WCSS = 0\n",
    "    # create an array to collect the indices of the groups\n",
    "    final_array = np.zeros(len(dataset))\n",
    "    # initialize the centroids\n",
    "    C = kmeans_plus_plus(dataset, k)\n",
    "    # create an old C, initialize with zeros\n",
    "    C_old = np.zeros(C.shape)\n",
    "    # define error function\n",
    "    parameter_gradient = np.linalg.norm(C-C_old)\n",
    "    # count the number of epochs performed until the error is zero, put an iterator\n",
    "    epoch = 0\n",
    "    # loop over the dataset, measure the distance btw C and all data points, assign group indices, re-assign C\n",
    "    while parameter_gradient > 1e-4:  \n",
    "        for i in range(len(dataset)):\n",
    "            distance = np.linalg.norm((dataset[i] - C), axis = 1) # the len distance array is the lenght of centroid\n",
    "            centroid_index = np.argmin(distance) # group sign is some number between [0,k) # YL: call that centroid_index\n",
    "            # YL: \"sign\" is either -1 or +1. This is not usable here.\n",
    "            final_array[i] = centroid_index\n",
    "        # now our current C is going to be C_old, find the new C \n",
    "        C_old = np.copy(C)\n",
    "        for i in range(k):\n",
    "            # list of items with the same group numbers are assigned to sub_groups\n",
    "            sub_group = [dataset[j] for j in range(len(dataset)) if final_array[j] == i]\n",
    "            # take the mean of the sub-group and \n",
    "            mean_of_sub_group = np.mean(sub_group, axis = 0)\n",
    "            # assign the new values to C\n",
    "            C[i] = mean_of_sub_group\n",
    "        parameter_gradient = np.linalg.norm(C - C_old) # when C does not change, we reach to zero error \n",
    "        epoch += 1\n",
    "\n",
    "    for j in range(k):\n",
    "        grouped_data = [dataset[i] for i in range(len(dataset)) if final_array[i] == j]\n",
    "        mean_of_grouped_data = np.mean(grouped_data, axis = 0) # outputs number of attributes\n",
    "        for i in range(len(grouped_data)):\n",
    "            WCSS += np.sum((grouped_data[i] - mean_of_grouped_data)**2)  \n",
    "            \n",
    "    \n",
    "    # return the final cluster coordinates, the array carrying indices of all data points, and the WCSS with given k\n",
    "    return epoch, C, final_array, WCSS\n",
    "\n",
    "\n",
    "if __name__ == '__main__':\n",
    "    dataset = np.loadtxt('wine.data.txt' , dtype = float, delimiter = ',')\n",
    "    dataset = np.array(dataset)\n",
    "    np.random.seed(1)\n",
    "    k = 15\n",
    "    def run_k_means():\n",
    "        WCSS_list = np.zeros(k)\n",
    "        for i in range(1, k):\n",
    "            epoch, C, final_array, WCSS = k_means(dataset, i)\n",
    "            WCSS_list[i] = WCSS\n",
    "\n",
    "        return WCSS_list\n",
    "\n",
    "    result = run_k_means()\n",
    "    print(result)\n",
    "    plt.plot(np.arange(1, k), result[1:])\n",
    "    "
   ]
  },
  {
   "cell_type": "code",
   "execution_count": null,
   "metadata": {},
   "outputs": [],
   "source": []
  }
 ],
 "metadata": {
  "kernelspec": {
   "display_name": "Python 3",
   "language": "python",
   "name": "python3"
  },
  "language_info": {
   "codemirror_mode": {
    "name": "ipython",
    "version": 3
   },
   "file_extension": ".py",
   "mimetype": "text/x-python",
   "name": "python",
   "nbconvert_exporter": "python",
   "pygments_lexer": "ipython3",
   "version": "3.7.1"
  }
 },
 "nbformat": 4,
 "nbformat_minor": 2
}
